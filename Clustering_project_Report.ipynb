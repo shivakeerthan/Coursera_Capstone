{
 "cells": [
  {
   "cell_type": "markdown",
   "metadata": {},
   "source": [
    "# Project Report on Clustering Restaurants in Toronto based on Cuisine"
   ]
  },
  {
   "cell_type": "markdown",
   "metadata": {},
   "source": [
    "## Introduction"
   ]
  },
  {
   "cell_type": "markdown",
   "metadata": {},
   "source": [
    "There are many places in which many business persons setup a business and fail to get positive results on it.There may be many \n",
    "reasons for their failure.It may be Lack of resourses,Lack of planning or it may be a very competitive place where already many\n",
    "established business may be ruling that location where there is rare chance for the new commers to start a business and grab the\n",
    "customers attention, who are the regular customers of the established business in that location.Hence the project is all about\n",
    "recommending a perfect location to a person who wants to start their own business(Restaurant) in location Toronto.\n",
    "\n",
    "At the end of this project we will be knowing the locations which are more suitable for starting a business, comparison of locations with respect to different restaurants,which are highly running.whether there is need of another restaurant in that particular location.The target audience for this project would be start-up business persons."
   ]
  },
  {
   "cell_type": "markdown",
   "metadata": {},
   "source": [
    "## Data Description"
   ]
  },
  {
   "cell_type": "markdown",
   "metadata": {},
   "source": [
    "The Data is required for the analysis of any problem.Hence I will be using data from Restaurant location and data provider, Foursquare.The data consists of different restaurants with latitude,longitude and the respective types of cuisines in the particular restaurant.there can be many number of cuisines in a restaurant and all of them are taken into consideration.Accordingly the neighbourhood restaurants are known by clustering.\n",
    "\n",
    "The latitude and longitude describe the exact location of the restaurant where as restaurant consists of categories where it describes the name of restaurant and type.the cluserting is done mainly on attributes such as category/type of restaurant, longitude,latitude.\n",
    "\n",
    "After clustering the locations are to be differentiated accordingly."
   ]
  },
  {
   "cell_type": "markdown",
   "metadata": {},
   "source": [
    "## Methodology"
   ]
  },
  {
   "cell_type": "markdown",
   "metadata": {},
   "source": [
    "This project has used the packages like __geopy__ for geolocation data and also the __folium__ package to easily work and visualise the geospatial data .we get all the cuisines from the location in toronto like european cusine, american cuisine, australian cuisine etc.\n",
    "All the cuisines and their respective restaurants id is to be taken into a list.\n",
    "Searching the restaurants with respect to their id and getting the latitude and longitude data of respective restaurants.\n",
    "cuisines are taken as attributes and binary values are taken for the restaurants who has particular cuisines in them.\n",
    "Clustering them using the KMeans and recommending the Stake Holders with the start-up restaurant with the cuisine which location has no or less number of cuisines. "
   ]
  },
  {
   "cell_type": "markdown",
   "metadata": {},
   "source": [
    "## Results"
   ]
  },
  {
   "cell_type": "markdown",
   "metadata": {},
   "source": [
    " <img src='Capture.jpg'>"
   ]
  },
  {
   "cell_type": "markdown",
   "metadata": {},
   "source": [
    "<img src='Capture1.jpg'>"
   ]
  },
  {
   "cell_type": "markdown",
   "metadata": {},
   "source": [
    "## Discussion"
   ]
  },
  {
   "cell_type": "markdown",
   "metadata": {},
   "source": [
    "The above table shows that there are 4 clusters:\n",
    "Where\n",
    "\n",
    "Cluster 0: It has all the cuisines which are Asian, American, Japanese and Australian but no European and Mexican Cuisine\n",
    "\n",
    "Cluster 1: It has all the cuisines like Mexican, Asian, American, Japanese and Australian but no European.\n",
    "\n",
    "Cluster 2: It has all the moderate number all cuisines but it has no Asian cuisine and Australian cuisines.\n",
    "\n",
    "CLuster 3:It has less number of European cuisines on the other hand no trace of Mexican, American and Japanese."
   ]
  },
  {
   "cell_type": "markdown",
   "metadata": {},
   "source": [
    "## Conclusion"
   ]
  },
  {
   "cell_type": "markdown",
   "metadata": {},
   "source": [
    " ### Cluster 0 (or) Location 0\n",
    "As there are no __European Cuisines__ or __Mexican Cusines__ in the cluster 0 there is best chance of new business success \n",
    "\n",
    "### Cluster 1 (or) Location 1\n",
    "As there are no __European Cuisines__  in the cluster 1 there is best chance of new business success \n",
    "\n",
    "### Cluster 2 (or) Location 2\n",
    "As there are no __Asian Cuisines__ or __Australian Cusines__ in the cluster 2 there is best chance of new business success \n",
    "\n",
    "### Cluster 3 (or) Location 3\n",
    "As there are no __American Cuisines__ and __Mexican Cusines__ , __Japanese Cusines__ in the cluster 3 there is best chance of new business success \n"
   ]
  },
  {
   "cell_type": "code",
   "execution_count": null,
   "metadata": {},
   "outputs": [],
   "source": []
  }
 ],
 "metadata": {
  "kernelspec": {
   "display_name": "Python 3",
   "language": "python",
   "name": "python3"
  },
  "language_info": {
   "codemirror_mode": {
    "name": "ipython",
    "version": 3
   },
   "file_extension": ".py",
   "mimetype": "text/x-python",
   "name": "python",
   "nbconvert_exporter": "python",
   "pygments_lexer": "ipython3",
   "version": "3.6.5"
  }
 },
 "nbformat": 4,
 "nbformat_minor": 2
}
