{
 "cells": [
  {
   "cell_type": "markdown",
   "metadata": {},
   "source": [
    "# Data Section"
   ]
  },
  {
   "cell_type": "markdown",
   "metadata": {},
   "source": [
    "### Data Description"
   ]
  },
  {
   "cell_type": "markdown",
   "metadata": {},
   "source": [
    "The Data is required for the analysis of any problem.Hence I will be using data from Restaurant location and data provider, Foursquare.The data consists of different restaurants with latitude,longitude and the respective types of cuisines in the particular restaurant.there can be many number of cuisines in a restaurant and all of them are taken into consideration.Accordingly the neighbourhood restaurants are known by clustering.\n",
    "\n",
    "The latitude and longitude describe the exact location of the restaurant where as restaurant consists of categories where it describes the name of restaurant and type.the cluserting is done mainly on attributes such as category/type of restaurant, longitude,latitude.\n",
    "\n",
    "After clustering the locations are to be differentiated accordingly."
   ]
  },
  {
   "cell_type": "code",
   "execution_count": null,
   "metadata": {},
   "outputs": [],
   "source": []
  }
 ],
 "metadata": {
  "kernelspec": {
   "display_name": "Python 3",
   "language": "python",
   "name": "python3"
  },
  "language_info": {
   "codemirror_mode": {
    "name": "ipython",
    "version": 3
   },
   "file_extension": ".py",
   "mimetype": "text/x-python",
   "name": "python",
   "nbconvert_exporter": "python",
   "pygments_lexer": "ipython3",
   "version": "3.6.5"
  }
 },
 "nbformat": 4,
 "nbformat_minor": 2
}
