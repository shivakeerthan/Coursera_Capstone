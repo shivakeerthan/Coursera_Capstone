{
 "cells": [
  {
   "cell_type": "markdown",
   "metadata": {},
   "source": [
    "# Introduction to the Business Problem"
   ]
  },
  {
   "cell_type": "markdown",
   "metadata": {},
   "source": [
    "### The Problem"
   ]
  },
  {
   "cell_type": "markdown",
   "metadata": {},
   "source": [
    "There are many places in which many business persons setup a business and fail to get positive results on it.There may be many \n",
    "reasons for their failure.It may be Lack of resourses,Lack of planning or it may be a very competitive place where already many\n",
    "established business may be ruling that location where there is rare chance for the new commers to start a business and grab the\n",
    "customers attention, who are the regular customers of the established business in that location.Hence the project is all about\n",
    "recommending a perfect location to a person who wants to start their own business(Restaurant) in location Toronto.\n",
    "\n",
    "At the end of this project we will be knowing the locations which are more suitable for starting a business, comparison of locations with respect to different restaurants,which are highly running.whether there is need of another restaurant in that particular location.The target audience for this project would be start-up business persons."
   ]
  }
 ],
 "metadata": {
  "kernelspec": {
   "display_name": "Python 3",
   "language": "python",
   "name": "python3"
  },
  "language_info": {
   "codemirror_mode": {
    "name": "ipython",
    "version": 3
   },
   "file_extension": ".py",
   "mimetype": "text/x-python",
   "name": "python",
   "nbconvert_exporter": "python",
   "pygments_lexer": "ipython3",
   "version": "3.6.5"
  }
 },
 "nbformat": 4,
 "nbformat_minor": 2
}
